{
  "nbformat": 4,
  "nbformat_minor": 0,
  "metadata": {
    "colab": {
      "provenance": []
    },
    "kernelspec": {
      "name": "python3",
      "display_name": "Python 3"
    },
    "language_info": {
      "name": "python"
    }
  },
  "cells": [
    {
      "cell_type": "code",
      "source": [
        "class Human:\n",
        "    def __init__(self, name ,age):\n",
        "        self.name = name\n",
        "        self.age = age\n",
        "\n",
        "    def printinfo(self):\n",
        "      print(\"名前:\", self.name)\n",
        "      print(\"年齢:\", self.age)\n",
        "\n",
        "human = Human(\"太郎\", 18)\n",
        "\n",
        "human.printinfo()"
      ],
      "metadata": {
        "colab": {
          "base_uri": "https://localhost:8080/"
        },
        "id": "kRbzg0_rluMP",
        "outputId": "e1306497-5b25-41d1-9173-e875e631b0c1"
      },
      "execution_count": 5,
      "outputs": [
        {
          "output_type": "stream",
          "name": "stdout",
          "text": [
            "名前: 太郎\n",
            "年齢: 18\n"
          ]
        }
      ]
    }
  ]
}