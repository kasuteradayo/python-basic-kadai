{
  "nbformat": 4,
  "nbformat_minor": 0,
  "metadata": {
    "colab": {
      "provenance": []
    },
    "kernelspec": {
      "name": "python3",
      "display_name": "Python 3"
    },
    "language_info": {
      "name": "python"
    }
  },
  "cells": [
    {
      "cell_type": "code",
      "source": [
        "class Human:\n",
        "    def __init__(self, name, age):\n",
        "        self.name = name\n",
        "        self.age = age\n",
        "\n",
        "    def check_adult(self):\n",
        "        if self.age < 20:\n",
        "          print(F\"{self.name}は大人ではありません。\")\n",
        "        else:\n",
        "          print(F\"{self.name}は大人です。\")\n",
        "\n",
        "human_1 = Human(\"太郎\", 20)\n",
        "human_2 = Human(\"次郎\", 18)\n",
        "\n",
        "humans = [human_1, human_2]\n",
        "\n",
        "for human in humans:\n",
        "  human.check_adult()\n",
        "\n"
      ],
      "metadata": {
        "colab": {
          "base_uri": "https://localhost:8080/"
        },
        "id": "l3WklZrOFNG5",
        "outputId": "edd9aa5f-aead-4ca8-f245-c7c81c90bf1f"
      },
      "execution_count": 5,
      "outputs": [
        {
          "output_type": "stream",
          "name": "stdout",
          "text": [
            "太郎は大人です。\n",
            "次郎は大人ではありません。\n"
          ]
        }
      ]
    }
  ]
}