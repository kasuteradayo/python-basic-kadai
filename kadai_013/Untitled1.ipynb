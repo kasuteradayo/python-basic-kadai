{
  "nbformat": 4,
  "nbformat_minor": 0,
  "metadata": {
    "colab": {
      "provenance": []
    },
    "kernelspec": {
      "name": "python3",
      "display_name": "Python 3"
    },
    "language_info": {
      "name": "python"
    }
  },
  "cells": [
    {
      "cell_type": "code",
      "source": [
        "def total_price(price, price_tax):\n",
        "\n",
        "\n",
        "    total = price + price * price_tax\n",
        "\n",
        "    print(f\"{total}円\")\n",
        "\n",
        "total_price(1300, 0.1)"
      ],
      "metadata": {
        "colab": {
          "base_uri": "https://localhost:8080/"
        },
        "id": "HwmRNfup1I53",
        "outputId": "4f0152af-5dd9-49d5-b199-26cbb8322912"
      },
      "execution_count": 2,
      "outputs": [
        {
          "output_type": "stream",
          "name": "stdout",
          "text": [
            "1430.0円\n"
          ]
        }
      ]
    }
  ]
}